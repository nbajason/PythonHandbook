{
 "cells": [
  {
   "cell_type": "code",
   "execution_count": 9,
   "metadata": {
    "collapsed": true
   },
   "outputs": [],
   "source": [
    "from collections import defaultdict\n",
    "word_list = ['army', 'mary', 'cool', 'dude', 'listen', 'silent', 'listens']"
   ]
  },
  {
   "cell_type": "code",
   "execution_count": 11,
   "metadata": {
    "collapsed": true
   },
   "outputs": [],
   "source": [
    "d = defaultdict(list)"
   ]
  },
  {
   "cell_type": "code",
   "execution_count": 12,
   "metadata": {},
   "outputs": [
    {
     "data": {
      "text/plain": [
       "defaultdict(list, {})"
      ]
     },
     "execution_count": 12,
     "metadata": {},
     "output_type": "execute_result"
    }
   ],
   "source": [
    "d"
   ]
  },
  {
   "cell_type": "code",
   "execution_count": 18,
   "metadata": {
    "collapsed": true
   },
   "outputs": [],
   "source": [
    "from collections import defaultdict\n",
    "\n",
    "word_list = ['army', 'mary', 'cool', 'dude', 'listen', 'silent', 'listens']\n",
    "\n",
    "def is_Anagrams(s1, s2):\n",
    "    strList1 = list(s1)\n",
    "    strList1.sort()\n",
    "    strList2 = list(s2)\n",
    "    strList2.sort()\n",
    "    return (strList1 == strList2)\n"
   ]
  },
  {
   "cell_type": "code",
   "execution_count": 19,
   "metadata": {
    "collapsed": true
   },
   "outputs": [],
   "source": [
    "output = get_Anagrams(word_list)"
   ]
  },
  {
   "cell_type": "code",
   "execution_count": 20,
   "metadata": {},
   "outputs": [
    {
     "data": {
      "text/plain": [
       "defaultdict(list,\n",
       "            {'amry': ['army', 'mary'],\n",
       "             'cloo': ['cool'],\n",
       "             'ddeu': ['dude'],\n",
       "             'eilnsst': ['listens'],\n",
       "             'eilnst': ['listen', 'silent']})"
      ]
     },
     "execution_count": 20,
     "metadata": {},
     "output_type": "execute_result"
    }
   ],
   "source": [
    "output"
   ]
  },
  {
   "cell_type": "code",
   "execution_count": 23,
   "metadata": {},
   "outputs": [
    {
     "name": "stdout",
     "output_type": "stream",
     "text": [
      "amry ['army', 'mary']\n",
      "eilnst ['listen', 'silent']\n"
     ]
    }
   ],
   "source": [
    "##########################################################################################################################\n",
    "### Write some Python code to take a list of words as input and return the words and their anagrams as output. \n",
    "### Anagram: rearranging the letters of a word to produce a new word using all the original letters exactly once\n",
    "###\n",
    "### example_list = ['cat', 'lemon', 'act', 'swim', 'melon']\n",
    "### output: [('cat', 'act'), ('lemon', 'melon')]\n",
    "###\n",
    "### No need to import any libraries, just use basic python objects.\n",
    "##########################################################################################################################\n",
    "from collections import defaultdict\n",
    "\n",
    "word_list = ['army', 'mary', 'cool', 'dude', 'listen', 'silent', 'listens']\n",
    "\n",
    "def get_Anagrams(s):\n",
    "    d = defaultdict(list)\n",
    "    for word in s:\n",
    "        key = \"\".join(sorted(word))\n",
    "        d[key].append(word)\n",
    "    return d\n",
    "\n",
    "def print_Anagrams(s):\n",
    "    r = get_Anagrams(s)\n",
    "    for key, anagrams in r.items():\n",
    "        if(len(anagrams)>1):\n",
    "            print(key, anagrams)\n",
    "    \n",
    "\n",
    "print_Anagrams(word_list)\n",
    "    "
   ]
  },
  {
   "cell_type": "code",
   "execution_count": 27,
   "metadata": {},
   "outputs": [
    {
     "name": "stdout",
     "output_type": "stream",
     "text": [
      "Enter the start number here 1\n",
      "Enter the end number here 100\n"
     ]
    }
   ],
   "source": [
    "startNumber = int(input(\"Enter the start number here \"))\n",
    "endNumber = int(input(\"Enter the end number here \"))\n",
    "\n",
    "def fib(n):\n",
    "    if n < 2:\n",
    "        return n\n",
    "    return fib(n-2) + fib(n-1)\n"
   ]
  },
  {
   "cell_type": "code",
   "execution_count": 29,
   "metadata": {},
   "outputs": [
    {
     "ename": "SyntaxError",
     "evalue": "invalid syntax (<ipython-input-29-bdfc408790a5>, line 1)",
     "output_type": "error",
     "traceback": [
      "\u001b[0;36m  File \u001b[0;32m\"<ipython-input-29-bdfc408790a5>\"\u001b[0;36m, line \u001b[0;32m1\u001b[0m\n\u001b[0;31m    print map(fib, range(startNumber, endNumber))\u001b[0m\n\u001b[0m            ^\u001b[0m\n\u001b[0;31mSyntaxError\u001b[0m\u001b[0;31m:\u001b[0m invalid syntax\n"
     ]
    }
   ],
   "source": [
    "print map(fib, range(startNumber, endNumber))"
   ]
  },
  {
   "cell_type": "code",
   "execution_count": 37,
   "metadata": {},
   "outputs": [
    {
     "data": {
      "text/plain": [
       "2"
      ]
     },
     "execution_count": 37,
     "metadata": {},
     "output_type": "execute_result"
    }
   ],
   "source": [
    "fib(3)"
   ]
  },
  {
   "cell_type": "code",
   "execution_count": 38,
   "metadata": {},
   "outputs": [
    {
     "ename": "ModuleNotFoundError",
     "evalue": "No module named 'tensorflow'",
     "output_type": "error",
     "traceback": [
      "\u001b[0;31m---------------------------------------------------------------------------\u001b[0m",
      "\u001b[0;31mModuleNotFoundError\u001b[0m                       Traceback (most recent call last)",
      "\u001b[0;32m<ipython-input-38-41389fad42b5>\u001b[0m in \u001b[0;36m<module>\u001b[0;34m()\u001b[0m\n\u001b[0;32m----> 1\u001b[0;31m \u001b[0;32mimport\u001b[0m \u001b[0mtensorflow\u001b[0m \u001b[0;32mas\u001b[0m \u001b[0mtf\u001b[0m\u001b[0;34m\u001b[0m\u001b[0m\n\u001b[0m",
      "\u001b[0;31mModuleNotFoundError\u001b[0m: No module named 'tensorflow'"
     ]
    }
   ],
   "source": [
    "import tensorflow as tf"
   ]
  },
  {
   "cell_type": "code",
   "execution_count": 3,
   "metadata": {},
   "outputs": [
    {
     "data": {
      "text/plain": [
       "4"
      ]
     },
     "execution_count": 3,
     "metadata": {},
     "output_type": "execute_result"
    }
   ],
   "source": [
    "len(\"test\")"
   ]
  },
  {
   "cell_type": "code",
   "execution_count": null,
   "metadata": {
    "collapsed": true
   },
   "outputs": [],
   "source": []
  }
 ],
 "metadata": {
  "kernelspec": {
   "display_name": "Python 3",
   "language": "python",
   "name": "python3"
  },
  "language_info": {
   "codemirror_mode": {
    "name": "ipython",
    "version": 3
   },
   "file_extension": ".py",
   "mimetype": "text/x-python",
   "name": "python",
   "nbconvert_exporter": "python",
   "pygments_lexer": "ipython3",
   "version": "3.6.1"
  }
 },
 "nbformat": 4,
 "nbformat_minor": 2
}
