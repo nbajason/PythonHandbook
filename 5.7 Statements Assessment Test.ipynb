{
 "cells": [
  {
   "cell_type": "markdown",
   "metadata": {
    "collapsed": true
   },
   "source": [
    "# Statements Assessment Test\n",
    "Lets test your knowledge!"
   ]
  },
  {
   "cell_type": "markdown",
   "metadata": {},
   "source": [
    "_____\n",
    "**Use for, split(), and if to create a Statement that will print out words that start with 's':**"
   ]
  },
  {
   "cell_type": "code",
   "execution_count": 2,
   "metadata": {
    "collapsed": true
   },
   "outputs": [],
   "source": [
    "st = 'Print only the words that start with s in this sentence'"
   ]
  },
  {
   "cell_type": "code",
   "execution_count": 6,
   "metadata": {},
   "outputs": [
    {
     "name": "stdout",
     "output_type": "stream",
     "text": [
      "start\n",
      "s\n",
      "sentence\n"
     ]
    }
   ],
   "source": [
    "for s in st.split():\n",
    "    if(s[0] =='s' ):\n",
    "        print s"
   ]
  },
  {
   "cell_type": "code",
   "execution_count": 7,
   "metadata": {},
   "outputs": [
    {
     "name": "stdout",
     "output_type": "stream",
     "text": [
      "['start', 's', 'sentence']\n"
     ]
    }
   ],
   "source": [
    "#Code here\n",
    "list = [s for s in st.split() if s[0] == 's']\n",
    "print list"
   ]
  },
  {
   "cell_type": "markdown",
   "metadata": {},
   "source": [
    "______\n",
    "**Use range() to print all the even numbers from 0 to 10.**"
   ]
  },
  {
   "cell_type": "code",
   "execution_count": 10,
   "metadata": {},
   "outputs": [
    {
     "data": {
      "text/plain": [
       "[0, 2, 4, 6, 8, 10]"
      ]
     },
     "execution_count": 10,
     "metadata": {},
     "output_type": "execute_result"
    }
   ],
   "source": [
    "#Code Here\n",
    "range(0,11,2)"
   ]
  },
  {
   "cell_type": "markdown",
   "metadata": {},
   "source": [
    "___\n",
    "**Use List comprehension to create a list of all numbers between 1 and 50 that are divisible by 3.**"
   ]
  },
  {
   "cell_type": "code",
   "execution_count": 12,
   "metadata": {},
   "outputs": [
    {
     "data": {
      "text/plain": [
       "[3, 6, 9, 12, 15, 18, 21, 24, 27, 30, 33, 36, 39, 42, 45, 48]"
      ]
     },
     "execution_count": 12,
     "metadata": {},
     "output_type": "execute_result"
    }
   ],
   "source": [
    "#Code in this cell\n",
    "list = [i for i in range(1,51) if i % 3 ==0 ]\n",
    "\n",
    "list"
   ]
  },
  {
   "cell_type": "markdown",
   "metadata": {},
   "source": [
    "_____\n",
    "**Go through the string below and if the length of a word is even print \"even!\"**"
   ]
  },
  {
   "cell_type": "code",
   "execution_count": 19,
   "metadata": {
    "collapsed": true
   },
   "outputs": [],
   "source": [
    "st = 'Print every word in this sentence that has an even number of letters'"
   ]
  },
  {
   "cell_type": "code",
   "execution_count": 20,
   "metadata": {},
   "outputs": [
    {
     "name": "stdout",
     "output_type": "stream",
     "text": [
      "word\n",
      "in\n",
      "this\n",
      "sentence\n",
      "that\n",
      "an\n",
      "even\n",
      "number\n",
      "of\n"
     ]
    }
   ],
   "source": [
    "#Code in this cell\n",
    "for s in st.split():\n",
    "    if len(s)%2 ==0:\n",
    "        print s"
   ]
  },
  {
   "cell_type": "markdown",
   "metadata": {},
   "source": [
    "____\n",
    "**Write a program that prints the integers from 1 to 100. But for multiples of three print \"Fizz\" instead of the number, and for the multiples of five print \"Buzz\". For numbers which are multiples of both three and five print \"FizzBuzz\".**"
   ]
  },
  {
   "cell_type": "code",
   "execution_count": 26,
   "metadata": {},
   "outputs": [
    {
     "name": "stdout",
     "output_type": "stream",
     "text": [
      "1\n",
      "2\n",
      "%3\n",
      "4\n",
      "%5\n",
      "%3\n",
      "7\n",
      "8\n",
      "%3\n",
      "%5\n",
      "11\n",
      "%3\n",
      "13\n",
      "14\n",
      "% 3/5\n",
      "16\n",
      "17\n",
      "%3\n",
      "19\n",
      "%5\n",
      "%3\n",
      "22\n",
      "23\n",
      "%3\n",
      "%5\n",
      "26\n",
      "%3\n",
      "28\n",
      "29\n",
      "% 3/5\n",
      "31\n",
      "32\n",
      "%3\n",
      "34\n",
      "%5\n",
      "%3\n",
      "37\n",
      "38\n",
      "%3\n",
      "%5\n",
      "41\n",
      "%3\n",
      "43\n",
      "44\n",
      "% 3/5\n",
      "46\n",
      "47\n",
      "%3\n",
      "49\n",
      "%5\n",
      "%3\n",
      "52\n",
      "53\n",
      "%3\n",
      "%5\n",
      "56\n",
      "%3\n",
      "58\n",
      "59\n",
      "% 3/5\n",
      "61\n",
      "62\n",
      "%3\n",
      "64\n",
      "%5\n",
      "%3\n",
      "67\n",
      "68\n",
      "%3\n",
      "%5\n",
      "71\n",
      "%3\n",
      "73\n",
      "74\n",
      "% 3/5\n",
      "76\n",
      "77\n",
      "%3\n",
      "79\n",
      "%5\n",
      "%3\n",
      "82\n",
      "83\n",
      "%3\n",
      "%5\n",
      "86\n",
      "%3\n",
      "88\n",
      "89\n",
      "% 3/5\n",
      "91\n",
      "92\n",
      "%3\n",
      "94\n",
      "%5\n",
      "%3\n",
      "97\n",
      "98\n",
      "%3\n",
      "%5\n"
     ]
    }
   ],
   "source": [
    "#Code in this cell\n",
    "\n",
    "for i in range(1,101):\n",
    "    if i%3==0 and i%5==0:\n",
    "        print '% 3/5'\n",
    "    elif i%3 ==0:\n",
    "        print '%3'\n",
    "    elif i%5 ==0 :\n",
    "        print '%5'\n",
    "    else:\n",
    "        print i"
   ]
  },
  {
   "cell_type": "markdown",
   "metadata": {},
   "source": [
    "____\n",
    "**Use List Comprehension to create a list of the first letters of every word in the string below:**"
   ]
  },
  {
   "cell_type": "code",
   "execution_count": 27,
   "metadata": {
    "collapsed": true
   },
   "outputs": [],
   "source": [
    "st = 'Create a list of the first letters of every word in this string'"
   ]
  },
  {
   "cell_type": "code",
   "execution_count": 29,
   "metadata": {},
   "outputs": [
    {
     "data": {
      "text/plain": [
       "['C', 'a', 'l', 'o', 't', 'f', 'l', 'o', 'e', 'w', 'i', 't', 's']"
      ]
     },
     "execution_count": 29,
     "metadata": {},
     "output_type": "execute_result"
    }
   ],
   "source": [
    "#Code in this cell\n",
    "[string[0] for string in st.split()]"
   ]
  },
  {
   "cell_type": "markdown",
   "metadata": {},
   "source": [
    "### Great Job!"
   ]
  }
 ],
 "metadata": {
  "kernelspec": {
   "display_name": "Python 2",
   "language": "python",
   "name": "python2"
  },
  "language_info": {
   "codemirror_mode": {
    "name": "ipython",
    "version": 2
   },
   "file_extension": ".py",
   "mimetype": "text/x-python",
   "name": "python",
   "nbconvert_exporter": "python",
   "pygments_lexer": "ipython2",
   "version": "2.7.13"
  }
 },
 "nbformat": 4,
 "nbformat_minor": 1
}
